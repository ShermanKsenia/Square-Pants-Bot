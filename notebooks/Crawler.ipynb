{
 "cells": [
  {
   "cell_type": "code",
   "execution_count": 1,
   "id": "91dcb2b4",
   "metadata": {},
   "outputs": [],
   "source": [
    "import pandas\n",
    "import sqlite3\n",
    "import requests\n",
    "import numpy as np\n",
    "import re\n",
    "import json\n",
    "from fake_useragent import UserAgent\n",
    "from bs4 import BeautifulSoup\n",
    "from tqdm.auto import tqdm\n",
    "from nltk.tokenize import wordpunct_tokenize\n",
    "from pymorphy2 import MorphAnalyzer\n",
    "from nltk.corpus import stopwords"
   ]
  },
  {
   "cell_type": "markdown",
   "id": "0fe649bf",
   "metadata": {},
   "source": [
    "Данные были собраны с сайта https://spongebob.fandom.com/wiki/SpongeBob_SquarePants_(character) - фандом мультсериала"
   ]
  },
  {
   "cell_type": "code",
   "execution_count": 2,
   "id": "e3a6bdcc",
   "metadata": {},
   "outputs": [],
   "source": [
    "session = requests.session()\n",
    "ua = UserAgent(verify_ssl=False)"
   ]
  },
  {
   "cell_type": "markdown",
   "id": "6de9cb52",
   "metadata": {},
   "source": [
    "В списке собраны имена персонажей, которые надо подставить в ссылку для сбора данных"
   ]
  },
  {
   "cell_type": "code",
   "execution_count": 33,
   "id": "ab8f1816",
   "metadata": {},
   "outputs": [],
   "source": [
    "characters = ['SpongeBob_SquarePants_(character)', \n",
    "              'Patrick_Star', \n",
    "              'Squidward_Tentacles',\n",
    "              'Eugene_H._Krabs',\n",
    "              'Sheldon_J._Plankton', \n",
    "              'Karen_Plankton', \n",
    "              'Sandy_Cheeks', \n",
    "              'Gary_the_Snail']"
   ]
  },
  {
   "cell_type": "code",
   "execution_count": 5,
   "id": "13bd63b5",
   "metadata": {},
   "outputs": [],
   "source": [
    "re_del = re.compile(r'\\[\\d+\\]')  # удаляет лишнее\n",
    "re_bad = re.compile(r'[a-z\\]][A-Z]')  # находит сочетания, которые надо разделить"
   ]
  },
  {
   "cell_type": "markdown",
   "id": "959b71fd",
   "metadata": {},
   "source": [
    "Так как после сбора данных предложения имели не совсем подобающий вид, мне понадобилось сделать функцию, которая делает их немного лучше"
   ]
  },
  {
   "cell_type": "code",
   "execution_count": 281,
   "id": "ff92b631",
   "metadata": {},
   "outputs": [],
   "source": [
    "def cool_description(sentence):\n",
    "    new_sent = []\n",
    "    for word in sentence.split():\n",
    "        if not word.startswith(('SpongeBob', 'SquarePants')):\n",
    "            if re_bad.search(word):\n",
    "                first_word = word[0]\n",
    "                for i in range(1, len(word)):\n",
    "                    if word[i].islower():\n",
    "                        first_word += word[i]\n",
    "                    else:\n",
    "                        first_word += '\\n'\n",
    "                        second_word = word[i:]\n",
    "                        word = first_word + second_word\n",
    "                        break\n",
    "            new_sent.append(word)\n",
    "        else:\n",
    "            new_sent.append(word)\n",
    "    return re_del.sub('', ' '.join(new_sent))"
   ]
  },
  {
   "cell_type": "markdown",
   "id": "ce23609d",
   "metadata": {},
   "source": [
    "Функция, которая собирает данные для каждого персонажа: gen_info - основная информация по разным разделам (образование, цвет глаз и тд), short_info - краткое описание персонажа, chat_name - имя персонажа по статье"
   ]
  },
  {
   "cell_type": "code",
   "execution_count": 6,
   "id": "006aced6",
   "metadata": {},
   "outputs": [],
   "source": [
    "def get_information(name):\n",
    "    link = f'https://spongebob.fandom.com/wiki/{name}'\n",
    "    req = session.get(link, headers={'User-Agent': ua.random})\n",
    "    page = req.text\n",
    "    soup = BeautifulSoup(page, 'html.parser')\n",
    "    all_info = soup.find_all('p')\n",
    "    gen_info = {}\n",
    "    gen_info_all = all_info[0].text.strip().split('\\n')\n",
    "    char_name = gen_info_all[0]\n",
    "    for i, info in enumerate(gen_info_all):\n",
    "        if (not info.startswith('\\t')) and (info != ''):\n",
    "            if (':' in info) and (len(info) < 30):\n",
    "                if info == 'Portrayer:':\n",
    "                    break\n",
    "                decription = cool_description(gen_info_all[i+1])\n",
    "                gen_info[info] = decription\n",
    "    for i in range(len(all_info)):\n",
    "        text = all_info[i].text\n",
    "        if text.startswith(char_name[:3]):\n",
    "            short_info = re_del.sub('', text)\n",
    "            break\n",
    "    return char_name, gen_info, short_info"
   ]
  },
  {
   "cell_type": "code",
   "execution_count": 283,
   "id": "0841a390",
   "metadata": {},
   "outputs": [],
   "source": [
    "personal_info = {}\n",
    "for char in characters:\n",
    "    char_name, gen_info, short_info = get_information(char)\n",
    "    personal_info[char_name] = {'gen_info': gen_info, 'short_info': short_info}"
   ]
  },
  {
   "cell_type": "code",
   "execution_count": 288,
   "id": "5e7d9abb",
   "metadata": {},
   "outputs": [],
   "source": [
    "with open('personal_info.json', 'w') as f:\n",
    "    f.write(json.dumps(personal_info))"
   ]
  }
 ],
 "metadata": {
  "kernelspec": {
   "display_name": "Python 3",
   "language": "python",
   "name": "python396jvsc74a57bd07812ea015bdcee6f23a998adcdd2ef97c151c0c241b7b7070987d9313e41299d"
  },
  "language_info": {
   "codemirror_mode": {
    "name": "ipython",
    "version": 3
   },
   "file_extension": ".py",
   "mimetype": "text/x-python",
   "name": "python",
   "nbconvert_exporter": "python",
   "pygments_lexer": "ipython3",
   "version": "3.9.6"
  }
 },
 "nbformat": 4,
 "nbformat_minor": 5
}
