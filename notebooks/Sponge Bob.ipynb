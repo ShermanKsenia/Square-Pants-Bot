{
 "cells": [
  {
   "cell_type": "code",
   "execution_count": 159,
   "id": "205e095e",
   "metadata": {},
   "outputs": [],
   "source": [
    "from tqdm import tqdm\n",
    "import pandas as pd\n",
    "import os\n",
    "import re\n",
    "import json\n",
    "import spacy\n",
    "import gensim\n",
    "from nltk.tokenize import sent_tokenize, wordpunct_tokenize, word_tokenize\n",
    "from nltk.corpus import stopwords\n",
    "from nltk.stem import WordNetLemmatizer\n",
    "from nltk import pos_tag\n",
    "from tqdm import tqdm\n",
    "from collections import Counter\n",
    "import pandas as pd\n",
    "import numpy as np\n",
    "from PIL import Image\n",
    "import os\n",
    "import re\n",
    "from string import punctuation"
   ]
  },
  {
   "cell_type": "code",
   "execution_count": 160,
   "id": "c7dc926a",
   "metadata": {},
   "outputs": [],
   "source": [
    "re_character = re.compile(r'(.+?):')\n",
    "re_text = re.compile(r': (.+)')\n",
    "re_episode = re.compile(r'(\\w+?)\\.')\n",
    "re_del = re.compile(r'\\[.+?\\]')"
   ]
  },
  {
   "cell_type": "code",
   "execution_count": 161,
   "id": "8bf4445e",
   "metadata": {},
   "outputs": [],
   "source": [
    "def define_character(lines, file):\n",
    "    character_texts = []\n",
    "    episode = re_episode.match(file)[1]\n",
    "    for n, line in enumerate(lines):\n",
    "        line = re_del.sub('', line).replace('\\xa0', ' ')\n",
    "        if re_character.match(line) and re_text.search(line):\n",
    "            character = re_character.match(line)[1]\n",
    "            text = re_text.search(line)[1]\n",
    "            character_texts.append(\n",
    "                {'character': character, \n",
    "                 'episode': episode, \n",
    "                 'line': text}\n",
    "            )\n",
    "    return character_texts"
   ]
  },
  {
   "cell_type": "code",
   "execution_count": 162,
   "id": "1020fc53",
   "metadata": {},
   "outputs": [
    {
     "name": "stderr",
     "output_type": "stream",
     "text": [
      "100%|████████████████████████████████████████| 393/393 [00:00<00:00, 701.11it/s]\n"
     ]
    }
   ],
   "source": [
    "characters_table = pd.DataFrame(columns=['character', 'episode', 'line'])\n",
    "for root, dirs, files in os.walk('./SpongeBob_SquarePants_Transcripts'):\n",
    "    for file in tqdm(files):\n",
    "        path = os.path.join(root, file)\n",
    "        with open(path, 'r', encoding='utf-8') as f:\n",
    "            lines = f.readlines()\n",
    "        character_texts = define_character(lines, file)\n",
    "        characters_table = characters_table.append(character_texts, ignore_index=True)"
   ]
  },
  {
   "cell_type": "code",
   "execution_count": 163,
   "id": "3789a9e8",
   "metadata": {},
   "outputs": [],
   "source": [
    "characters_table = characters_table.drop(index=32911)"
   ]
  },
  {
   "cell_type": "code",
   "execution_count": 164,
   "id": "3adb9662",
   "metadata": {},
   "outputs": [],
   "source": [
    "re_title = re.compile(r'[A-Z][a-z]*')\n",
    "def normalize_title(title):\n",
    "    return ' '.join(re_title.findall(title))"
   ]
  },
  {
   "cell_type": "code",
   "execution_count": 165,
   "id": "62792cd4",
   "metadata": {},
   "outputs": [],
   "source": [
    "characters_table['episode'] = characters_table['episode'].apply(normalize_title)"
   ]
  },
  {
   "cell_type": "code",
   "execution_count": 166,
   "id": "d89767a5",
   "metadata": {},
   "outputs": [],
   "source": [
    "import matplotlib.pyplot as plt\n",
    "import seaborn as sns\n",
    "from wordcloud import WordCloud"
   ]
  },
  {
   "cell_type": "markdown",
   "id": "ca1d6bb3",
   "metadata": {},
   "source": [
    "Какие поинты можно отметить:\n",
    "- длина реплики каждого персонажа из основных\n",
    "- самое часто слово у каждого / во всём сериале\n",
    "- серия с наибольшим количеством реплик\n",
    "- облака слов каждого персонажа из основных\n",
    "- можно для прикола просто факты накидать (спарсить с сайта какого-нибудь?:))"
   ]
  },
  {
   "cell_type": "code",
   "execution_count": 167,
   "id": "5519e720",
   "metadata": {},
   "outputs": [],
   "source": [
    "char_info = {'SpongeBob': {},\n",
    "            'Patrick': {},\n",
    "            'Mr. Krabs': {},\n",
    "            'Squidward': {},\n",
    "            'Plankton': {},\n",
    "            'Sandy': {},\n",
    "            'Karen': {},\n",
    "            'Gary': {}}"
   ]
  },
  {
   "cell_type": "markdown",
   "id": "954f4bf8",
   "metadata": {},
   "source": [
    "#### Длина реплики"
   ]
  },
  {
   "cell_type": "code",
   "execution_count": 168,
   "id": "81f6bd63",
   "metadata": {},
   "outputs": [],
   "source": [
    "main_char = ['SpongeBob', 'Patrick', 'Mr. Krabs', 'Squidward', 'Plankton', 'Sandy', 'Karen', 'Gary']\n",
    "main_char_table = characters_table.copy()[characters_table['character'].isin(main_char)]"
   ]
  },
  {
   "cell_type": "code",
   "execution_count": 169,
   "id": "cfb07898",
   "metadata": {},
   "outputs": [],
   "source": [
    "main_char_table['len_line'] = main_char_table['line'].apply(lambda x: len(x.split()))"
   ]
  },
  {
   "cell_type": "code",
   "execution_count": 170,
   "id": "b0d35172",
   "metadata": {
    "scrolled": true
   },
   "outputs": [],
   "source": [
    "cnt_len_table = main_char_table.groupby('character')['len_line'].agg('median').reset_index(name='count')"
   ]
  },
  {
   "cell_type": "code",
   "execution_count": 171,
   "id": "d9c81a0d",
   "metadata": {},
   "outputs": [],
   "source": [
    "for i, row in cnt_len_table.iterrows():\n",
    "    char_info[row['character']]['length'] = row['count']"
   ]
  },
  {
   "cell_type": "markdown",
   "id": "9539c1e1",
   "metadata": {},
   "source": [
    "#### Вордклауды"
   ]
  },
  {
   "cell_type": "code",
   "execution_count": 172,
   "id": "c43d601f",
   "metadata": {},
   "outputs": [],
   "source": [
    "all_lines = main_char_table.groupby('character')['line'].agg(list).reset_index()"
   ]
  },
  {
   "cell_type": "code",
   "execution_count": 173,
   "id": "71a10134",
   "metadata": {},
   "outputs": [],
   "source": [
    "sw = stopwords.words('english') + ['go', 'get', 'oh', 'well', 'like', 'come', 'look', 'know', 'see', 'hey', 'na', 'one', 'two']\n",
    "lemmatizer = WordNetLemmatizer()\n",
    "nltk_to_pos = {'ADV': 'r', 'NOUN': 'n', 'VERB': 'v', 'ADJ': 'a'}"
   ]
  },
  {
   "cell_type": "code",
   "execution_count": 174,
   "id": "d71ae1aa",
   "metadata": {},
   "outputs": [],
   "source": [
    "def for_model(lines):\n",
    "    lemmas = []\n",
    "    new_sent = []\n",
    "    for line in lines:\n",
    "        sentences = sent_tokenize(line)\n",
    "        for sent in sentences:\n",
    "            words = [word for word in word_tokenize(sent) if word.isalpha()]\n",
    "            for word in words:\n",
    "                pos = pos_tag([word], tagset='universal')[0][1]\n",
    "                if pos in ['VERB', 'NOUN', 'ADV', 'ADJ']:\n",
    "                    word = lemmatizer.lemmatize(word.lower(), pos=nltk_to_pos[pos])\n",
    "                else:\n",
    "                    word = lemmatizer.lemmatize(word.lower())\n",
    "                if word not in sw:\n",
    "                    lemmas.append(word)\n",
    "    return lemmas"
   ]
  },
  {
   "cell_type": "code",
   "execution_count": 175,
   "id": "09c2e8c2",
   "metadata": {},
   "outputs": [],
   "source": [
    "all_lines['lemmas'] = all_lines['line'].apply(for_model)"
   ]
  },
  {
   "cell_type": "code",
   "execution_count": 187,
   "id": "6c15ef74",
   "metadata": {},
   "outputs": [],
   "source": [
    "i = -1\n",
    "masks = {'SpongeBob': './masks/spongebob_mask.png', \n",
    "         'Patrick': './masks/patrick_mask.png',\n",
    "         'Mr. Krabs': './masks/mrkrabs_mask.png',\n",
    "         'Sandy': './masks/sandy_mask.png',\n",
    "         'Squidward': './masks/squidward_mask.png',\n",
    "         'Karen': './masks/karen_mask.png',\n",
    "         'Plankton': './masks/plankton_mask.png',\n",
    "         'Gary': './masks/gary_mask.png'\n",
    "        }\n",
    "for name in all_lines['character'].unique():\n",
    "    i += 1\n",
    "    mask = np.array(Image.open(masks[name]))\n",
    "    text = ' '.join(all_lines[all_lines['character'] == name]['lemmas'][i])\n",
    "    wordcloud = WordCloud(\n",
    "    background_color ='white',\n",
    "    width = 800,\n",
    "    height = 800,\n",
    "    mask = mask\n",
    "    ).generate(text)\n",
    "    '''\n",
    "    plt.figure(figsize = (8, 8), facecolor = None) \n",
    "    plt.imshow(wordcloud)\n",
    "    plt.axis(\"off\") \n",
    "    plt.title(f'{name}')\n",
    "    plt.show()\n",
    "    '''\n",
    "    wordcloud.to_file(f'{masks[name]}_cloud.png')\n",
    "    char_info[name]['wordcloud'] = f'{masks[name]}_cloud.png'"
   ]
  },
  {
   "cell_type": "markdown",
   "id": "33da89d2",
   "metadata": {},
   "source": [
    "#### Наиболее частые слова персонажа"
   ]
  },
  {
   "cell_type": "code",
   "execution_count": 178,
   "id": "d371d9f1",
   "metadata": {},
   "outputs": [],
   "source": [
    "def frequent_word(words):\n",
    "    count_words = Counter(words)\n",
    "    return count_words.most_common(5)"
   ]
  },
  {
   "cell_type": "code",
   "execution_count": 179,
   "id": "8c804b7d",
   "metadata": {},
   "outputs": [],
   "source": [
    "all_lines['frequent'] = all_lines['lemmas'].apply(frequent_word)"
   ]
  },
  {
   "cell_type": "code",
   "execution_count": 180,
   "id": "8efd6b88",
   "metadata": {},
   "outputs": [],
   "source": [
    "for i, row in all_lines.iterrows():\n",
    "    char_info[row['character']]['most_words'] = row['frequent']"
   ]
  },
  {
   "cell_type": "markdown",
   "id": "87e39a55",
   "metadata": {},
   "source": [
    "#### Количество серий, в которых встречается персонаж"
   ]
  },
  {
   "cell_type": "code",
   "execution_count": 181,
   "id": "03c31b35",
   "metadata": {},
   "outputs": [],
   "source": [
    "all_episodes = main_char_table.groupby('character')['episode'].unique().reset_index(name='all_episodes')"
   ]
  },
  {
   "cell_type": "code",
   "execution_count": 182,
   "id": "5664b54c",
   "metadata": {},
   "outputs": [],
   "source": [
    "def count_episodes(episodes):\n",
    "    return len(episodes)"
   ]
  },
  {
   "cell_type": "code",
   "execution_count": 183,
   "id": "16f8494a",
   "metadata": {},
   "outputs": [],
   "source": [
    "all_episodes['count_episodes'] = all_episodes['all_episodes'].apply(count_episodes)"
   ]
  },
  {
   "cell_type": "code",
   "execution_count": 184,
   "id": "7401a05c",
   "metadata": {
    "collapsed": true
   },
   "outputs": [
    {
     "data": {
      "text/html": [
       "<div>\n",
       "<style scoped>\n",
       "    .dataframe tbody tr th:only-of-type {\n",
       "        vertical-align: middle;\n",
       "    }\n",
       "\n",
       "    .dataframe tbody tr th {\n",
       "        vertical-align: top;\n",
       "    }\n",
       "\n",
       "    .dataframe thead th {\n",
       "        text-align: right;\n",
       "    }\n",
       "</style>\n",
       "<table border=\"1\" class=\"dataframe\">\n",
       "  <thead>\n",
       "    <tr style=\"text-align: right;\">\n",
       "      <th></th>\n",
       "      <th>character</th>\n",
       "      <th>all_episodes</th>\n",
       "      <th>count_episodes</th>\n",
       "    </tr>\n",
       "  </thead>\n",
       "  <tbody>\n",
       "    <tr>\n",
       "      <th>1</th>\n",
       "      <td>Karen</td>\n",
       "      <td>[Karen, A Cabininthe Kelp, Goo Goo Gas, Grandm...</td>\n",
       "      <td>55</td>\n",
       "    </tr>\n",
       "    <tr>\n",
       "      <th>5</th>\n",
       "      <td>Sandy</td>\n",
       "      <td>[Oral Report, Stuckonthe Roof, A Cabininthe Ke...</td>\n",
       "      <td>96</td>\n",
       "    </tr>\n",
       "    <tr>\n",
       "      <th>4</th>\n",
       "      <td>Plankton</td>\n",
       "      <td>[The Krusty Slammer, The Great Patty Caper, Ka...</td>\n",
       "      <td>97</td>\n",
       "    </tr>\n",
       "    <tr>\n",
       "      <th>0</th>\n",
       "      <td>Gary</td>\n",
       "      <td>[Penny Foolish, Sentimental Sponge, Bummer Vac...</td>\n",
       "      <td>110</td>\n",
       "    </tr>\n",
       "    <tr>\n",
       "      <th>2</th>\n",
       "      <td>Mr. Krabs</td>\n",
       "      <td>[Lighthouse Louie, Penny Foolish, Barnacle Fac...</td>\n",
       "      <td>262</td>\n",
       "    </tr>\n",
       "    <tr>\n",
       "      <th>3</th>\n",
       "      <td>Patrick</td>\n",
       "      <td>[Oral Report, Sentimental Sponge, Fun Sized Fr...</td>\n",
       "      <td>270</td>\n",
       "    </tr>\n",
       "    <tr>\n",
       "      <th>7</th>\n",
       "      <td>Squidward</td>\n",
       "      <td>[Penny Foolish, Oral Report, The Krusty Slamme...</td>\n",
       "      <td>295</td>\n",
       "    </tr>\n",
       "    <tr>\n",
       "      <th>6</th>\n",
       "      <td>SpongeBob</td>\n",
       "      <td>[Lighthouse Louie, Penny Foolish, Barnacle Fac...</td>\n",
       "      <td>389</td>\n",
       "    </tr>\n",
       "  </tbody>\n",
       "</table>\n",
       "</div>"
      ],
      "text/plain": [
       "   character                                       all_episodes  \\\n",
       "1      Karen  [Karen, A Cabininthe Kelp, Goo Goo Gas, Grandm...   \n",
       "5      Sandy  [Oral Report, Stuckonthe Roof, A Cabininthe Ke...   \n",
       "4   Plankton  [The Krusty Slammer, The Great Patty Caper, Ka...   \n",
       "0       Gary  [Penny Foolish, Sentimental Sponge, Bummer Vac...   \n",
       "2  Mr. Krabs  [Lighthouse Louie, Penny Foolish, Barnacle Fac...   \n",
       "3    Patrick  [Oral Report, Sentimental Sponge, Fun Sized Fr...   \n",
       "7  Squidward  [Penny Foolish, Oral Report, The Krusty Slamme...   \n",
       "6  SpongeBob  [Lighthouse Louie, Penny Foolish, Barnacle Fac...   \n",
       "\n",
       "   count_episodes  \n",
       "1              55  \n",
       "5              96  \n",
       "4              97  \n",
       "0             110  \n",
       "2             262  \n",
       "3             270  \n",
       "7             295  \n",
       "6             389  "
      ]
     },
     "execution_count": 184,
     "metadata": {},
     "output_type": "execute_result"
    }
   ],
   "source": [
    "all_episodes.sort_values(['count_episodes'])"
   ]
  },
  {
   "cell_type": "code",
   "execution_count": 185,
   "id": "5c5b6ca3",
   "metadata": {},
   "outputs": [],
   "source": [
    "for i, row in all_episodes.iterrows():\n",
    "    char_info[row['character']]['count_episodes'] = row['count_episodes']"
   ]
  },
  {
   "cell_type": "markdown",
   "id": "f319c533",
   "metadata": {},
   "source": [
    "#### Тональность реплик?"
   ]
  },
  {
   "cell_type": "markdown",
   "id": "2af6f00e",
   "metadata": {},
   "source": [
    "https://spongebob.fandom.com/wiki/List_of_transcripts#Season_1\n",
    "\n",
    "либо транскрипты стащить, либо вики странички"
   ]
  },
  {
   "cell_type": "code",
   "execution_count": 188,
   "id": "48ffa249",
   "metadata": {},
   "outputs": [],
   "source": [
    "with open('char_info.json', 'w') as f:\n",
    "    f.write(json.dumps(char_info))"
   ]
  },
  {
   "cell_type": "markdown",
   "id": "b1f51860",
   "metadata": {},
   "source": [
    "#### Количество реплик в эпизоде"
   ]
  },
  {
   "cell_type": "code",
   "execution_count": 104,
   "id": "c4fda4eb",
   "metadata": {},
   "outputs": [],
   "source": [
    "lines_per_episode = (characters_table\n",
    "                     .groupby('episode')['line']\n",
    "                     .agg('count')\n",
    "                     .reset_index(name='lines_cnt'))"
   ]
  },
  {
   "cell_type": "markdown",
   "id": "afd7aeb2",
   "metadata": {},
   "source": [
    "#### Количество персонажей в эпизоде"
   ]
  },
  {
   "cell_type": "code",
   "execution_count": 43,
   "id": "34680de0",
   "metadata": {},
   "outputs": [],
   "source": [
    "character_per_episode = (characters_table\n",
    "                     .groupby('episode')['character']\n",
    "                     .agg('unique')\n",
    "                     .reset_index(name='unique_char'))"
   ]
  },
  {
   "cell_type": "code",
   "execution_count": 46,
   "id": "69abc0f4",
   "metadata": {},
   "outputs": [],
   "source": [
    "character_per_episode['unique_char_cnt'] = character_per_episode['unique_char'].apply(len)"
   ]
  },
  {
   "cell_type": "code",
   "execution_count": 49,
   "id": "a9bc8b18",
   "metadata": {},
   "outputs": [
    {
     "data": {
      "text/html": [
       "<div>\n",
       "<style scoped>\n",
       "    .dataframe tbody tr th:only-of-type {\n",
       "        vertical-align: middle;\n",
       "    }\n",
       "\n",
       "    .dataframe tbody tr th {\n",
       "        vertical-align: top;\n",
       "    }\n",
       "\n",
       "    .dataframe thead th {\n",
       "        text-align: right;\n",
       "    }\n",
       "</style>\n",
       "<table border=\"1\" class=\"dataframe\">\n",
       "  <thead>\n",
       "    <tr style=\"text-align: right;\">\n",
       "      <th></th>\n",
       "      <th>episode</th>\n",
       "      <th>unique_char</th>\n",
       "      <th>unique_char_cnt</th>\n",
       "    </tr>\n",
       "  </thead>\n",
       "  <tbody>\n",
       "    <tr>\n",
       "      <th>277</th>\n",
       "      <td>Sponge Bobs Big Birthday Blowout</td>\n",
       "      <td>[Patchy, Potty, SpongeBob's alarm clock, Spong...</td>\n",
       "      <td>75</td>\n",
       "    </tr>\n",
       "    <tr>\n",
       "      <th>371</th>\n",
       "      <td>Truthor Square</td>\n",
       "      <td>[Ricky Gervais, Patchy the Pirate, Security Gu...</td>\n",
       "      <td>64</td>\n",
       "    </tr>\n",
       "    <tr>\n",
       "      <th>116</th>\n",
       "      <td>High Sea Diving</td>\n",
       "      <td>[Perch Perkins, Gary, SpongeBob, Monroe Timmy,...</td>\n",
       "      <td>37</td>\n",
       "    </tr>\n",
       "    <tr>\n",
       "      <th>358</th>\n",
       "      <td>The Sponge Who Could Fly</td>\n",
       "      <td>[French narrator, Potty, Patchy, Children, Mrs...</td>\n",
       "      <td>36</td>\n",
       "    </tr>\n",
       "    <tr>\n",
       "      <th>86</th>\n",
       "      <td>Friendor Foe</td>\n",
       "      <td>[French Narrator, Patchy, Potty, Mr. Pirateson...</td>\n",
       "      <td>34</td>\n",
       "    </tr>\n",
       "  </tbody>\n",
       "</table>\n",
       "</div>"
      ],
      "text/plain": [
       "                              episode  \\\n",
       "277  Sponge Bobs Big Birthday Blowout   \n",
       "371                    Truthor Square   \n",
       "116                   High Sea Diving   \n",
       "358          The Sponge Who Could Fly   \n",
       "86                       Friendor Foe   \n",
       "\n",
       "                                           unique_char  unique_char_cnt  \n",
       "277  [Patchy, Potty, SpongeBob's alarm clock, Spong...               75  \n",
       "371  [Ricky Gervais, Patchy the Pirate, Security Gu...               64  \n",
       "116  [Perch Perkins, Gary, SpongeBob, Monroe Timmy,...               37  \n",
       "358  [French narrator, Potty, Patchy, Children, Mrs...               36  \n",
       "86   [French Narrator, Patchy, Potty, Mr. Pirateson...               34  "
      ]
     },
     "execution_count": 49,
     "metadata": {},
     "output_type": "execute_result"
    }
   ],
   "source": [
    "character_per_episode.sort_values(['unique_char_cnt'], ascending=False)[:5]"
   ]
  },
  {
   "cell_type": "code",
   "execution_count": 105,
   "id": "66ddee86",
   "metadata": {},
   "outputs": [],
   "source": [
    "episodes = character_per_episode.join(lines_per_episode.set_index('episode'), on='episode')"
   ]
  },
  {
   "cell_type": "markdown",
   "id": "353dd365",
   "metadata": {},
   "source": [
    "#### Наиболее частый и редкий персонажи"
   ]
  },
  {
   "cell_type": "code",
   "execution_count": 89,
   "id": "a2c330aa",
   "metadata": {},
   "outputs": [],
   "source": [
    "episodes_per_char = characters_table.groupby('character')['episode'].agg('unique').reset_index(name='unique_ep')"
   ]
  },
  {
   "cell_type": "code",
   "execution_count": 90,
   "id": "0047eed6",
   "metadata": {},
   "outputs": [],
   "source": [
    "episodes_per_char['unique_ep_cnt'] = episodes_per_char['unique_ep'].apply(len)"
   ]
  },
  {
   "cell_type": "code",
   "execution_count": 101,
   "id": "7e1042d0",
   "metadata": {
    "scrolled": false
   },
   "outputs": [
    {
     "data": {
      "text/html": [
       "<div>\n",
       "<style scoped>\n",
       "    .dataframe tbody tr th:only-of-type {\n",
       "        vertical-align: middle;\n",
       "    }\n",
       "\n",
       "    .dataframe tbody tr th {\n",
       "        vertical-align: top;\n",
       "    }\n",
       "\n",
       "    .dataframe thead th {\n",
       "        text-align: right;\n",
       "    }\n",
       "</style>\n",
       "<table border=\"1\" class=\"dataframe\">\n",
       "  <thead>\n",
       "    <tr style=\"text-align: right;\">\n",
       "      <th></th>\n",
       "      <th>character</th>\n",
       "      <th>unique_ep</th>\n",
       "      <th>unique_ep_cnt</th>\n",
       "    </tr>\n",
       "  </thead>\n",
       "  <tbody>\n",
       "    <tr>\n",
       "      <th>137</th>\n",
       "      <td>Barnacle Boy</td>\n",
       "      <td>[Mermaid Manand Barnacle Boy, Mermaid Manand B...</td>\n",
       "      <td>11</td>\n",
       "    </tr>\n",
       "  </tbody>\n",
       "</table>\n",
       "</div>"
      ],
      "text/plain": [
       "        character                                          unique_ep  \\\n",
       "137  Barnacle Boy  [Mermaid Manand Barnacle Boy, Mermaid Manand B...   \n",
       "\n",
       "     unique_ep_cnt  \n",
       "137             11  "
      ]
     },
     "execution_count": 101,
     "metadata": {},
     "output_type": "execute_result"
    }
   ],
   "source": [
    "episodes_per_char[episodes_per_char['character'] == 'Barnacle Boy']"
   ]
  },
  {
   "cell_type": "markdown",
   "id": "f4f40b05",
   "metadata": {},
   "source": [
    "1448 персонажей встречаются один раз\n",
    "146 персонажей встречаются 2 раза\n",
    "49 персонажей встречаются 3 раза"
   ]
  },
  {
   "cell_type": "code",
   "execution_count": 155,
   "id": "6188012c",
   "metadata": {},
   "outputs": [],
   "source": [
    "episode_stat = {'lines_cnt': {}, 'chatacters_cnt': {}}"
   ]
  },
  {
   "cell_type": "code",
   "execution_count": 156,
   "id": "50974085",
   "metadata": {
    "scrolled": true
   },
   "outputs": [],
   "source": [
    "a = episodes.sort_values(['unique_char_cnt'], ascending=False)[:3]\n",
    "b = episodes.sort_values(['unique_char_cnt'], ascending=True)[:3]\n",
    "for i, row in a.iterrows():\n",
    "    episode_stat['chatacters_cnt'][row['episode']] = [row['unique_char_cnt']]\n",
    "for i, row in b.iterrows():\n",
    "    episode_stat['chatacters_cnt'][row['episode']] = [row['unique_char_cnt'], row['unique_char'].tolist()]"
   ]
  },
  {
   "cell_type": "code",
   "execution_count": 157,
   "id": "44f0e187",
   "metadata": {},
   "outputs": [],
   "source": [
    "a = episodes.sort_values(['lines_cnt'], ascending=False)[:3]\n",
    "b = episodes.sort_values(['lines_cnt'], ascending=True)[:3]\n",
    "for i, row in a.iterrows():\n",
    "    episode_stat['lines_cnt'][row['episode']] = row['lines_cnt']\n",
    "for i, row in b.iterrows():\n",
    "    episode_stat['lines_cnt'][row['episode']] = row['lines_cnt']"
   ]
  },
  {
   "cell_type": "code",
   "execution_count": 158,
   "id": "a1cd125d",
   "metadata": {},
   "outputs": [],
   "source": [
    "with open('episodes.json', 'w') as f:\n",
    "    f.write(json.dumps(episode_stat))"
   ]
  },
  {
   "cell_type": "code",
   "execution_count": null,
   "id": "8121f2ea",
   "metadata": {},
   "outputs": [],
   "source": []
  }
 ],
 "metadata": {
  "kernelspec": {
   "display_name": "Python 3 (ipykernel)",
   "language": "python",
   "name": "python3"
  },
  "language_info": {
   "codemirror_mode": {
    "name": "ipython",
    "version": 3
   },
   "file_extension": ".py",
   "mimetype": "text/x-python",
   "name": "python",
   "nbconvert_exporter": "python",
   "pygments_lexer": "ipython3",
   "version": "3.9.6"
  }
 },
 "nbformat": 4,
 "nbformat_minor": 5
}
